{
 "cells": [
  {
   "cell_type": "code",
   "execution_count": 777,
   "metadata": {},
   "outputs": [
    {
     "data": {
      "text/plain": [
       "5"
      ]
     },
     "execution_count": 777,
     "metadata": {},
     "output_type": "execute_result"
    }
   ],
   "source": [
    "import numpy as np\n",
    "\n",
    "def gen_gender():\n",
    "  \"4% probability for non-binary\"\n",
    "  if np.random.uniform() < 0.96:\n",
    "    return np.random.choice([1, 2], p=[0.5, 0.5])\n",
    "  else:\n",
    "    return 3\n",
    "\n",
    "def gen_age():\n",
    "  \"Normal distribution, mean of 42 and a standard deviation of 20\"\n",
    "  age = int(np.random.normal(loc=42, scale=20))\n",
    "  while age <= 15 or age >= 100:\n",
    "    age = int(np.random.normal(loc=42, scale=20))\n",
    "  return age\n",
    "  # There is probably a way to avoid having to write this twice while still using normal distribution, but it works for now\n",
    "\n",
    "\n",
    "#TODO: Check correlation with age for civilstånd, utbildningsnivå etc.\n",
    "\n",
    "def gen_civilstånd():\n",
    "  return np.random.choice([1, 2, 3, 4, 5, 6], p=[0.47, 0.35, 0.09, 0.04, 0.02, 0.003])\n",
    "\n",
    "def gen_utbildningsnivå(age):\n",
    "  if age <= 17: return 1 # Grundskolenivå garanterad för age <= 16\n",
    "  elif age == 18 or 19: return np.random.randint(1, high=3) # Slumpar studentexamen för 18-19 år\n",
    "  return np.random.choice([1, 2, 3, 4, 5, 6], p=[0.02, 0.02, 0.26, 0.19, 0.270, 0.24])\n",
    "  # allt annat random TODO: implement probability for each age\n",
    "\n",
    "def gen_sysselsättning(age):\n",
    "  if age >= 66: return 5 # Garanterar pension över 66\n",
    "  elif age >= 60: return np.random.choice([1, 4, 5, 6]) # Möjlig pension över 60, ej möjliga studier\n",
    "  elif age <= 17: return 2 # Garanterar studier under 17\n",
    "  elif age >= 18 or age <= 30: return np.random.choice([1, 2, 3, 4], p=[0.25, 0.65, 0.05, 0.05]) #Högre sannolikhet att vara student\n",
    "  return np.random.choice([1, 2, 3, 4, 5, 6], p=[0.7, 0.1, 0.088, 0.086, 0.0, 0.02]) # Speglar arbetslöshet och sjukskrivning i sverige 2022\n",
    "\n",
    "def gen_boende():\n",
    "  return np.random.choice([1, 2, 3, 4, 5], p=[0.25, 0.25, 0.49, 0.005, 0.005])\n",
    "  # VERY ROUGH estimate, probably not even remotely close to actual distribution\n",
    "  # TODO: add parameters for probability from age and other stuff\n",
    "\n",
    "def gen_bor_med(age):\n",
    "  if age <= 17: return 4 # Garanterar boende med förälder under 17\n",
    "  if age >= 31 or age <= 50: return np.random.choice([1, 2, 3, 4, 5, 6], p=[0.2, 0.1, 0.2, 0.002, 0.002, 0.496]) # ökad sannolikhet att bo med familj i åldersspann 31-50\n",
    "  return np.random.choice([1, 2, 3, 5, 6], p=[0.362, 0.4, 0.02, 0.1, 0.118]) # ensamboende speglar scb 2019, resten lekmannaestimering\n",
    "\n",
    "## ------- Health  ------- ##\n",
    "\n",
    "def gen_vardagstillfredsställelse():\n",
    "  \"Normal distribution with mean 3 and std 1.6\"\n",
    "  val = int(np.random.normal(loc=3, scale=1.6))\n",
    "  while val < 1 or val > 5:\n",
    "    val = int(np.random.normal(loc=3, scale=1.6))\n",
    "  return val\n",
    "  #TODO: find probability from other parameters such as living situation and age\n",
    "\n",
    "def gen_health():\n",
    "  return np.random.choice([1,2,3,4,5], p=[0.05,0.2,0.5,0.2,0.05]) # lazy normal distribution\n",
    "\n",
    "## ------ Daily/weekly time ------ #\n",
    "\n",
    "# Arbete\tSkötsel\tLek\tRekreation\tSömn\tTid_ensam\tTid_familj\tTid_vänner\tTid_övriga\n",
    "\n",
    "def gen_name():\n",
    "  pass\n",
    "\n",
    "def gen_email(name, age):\n",
    "  pass\n",
    "\n",
    "def gen_phone():\n",
    "  # challenge# 1: needs to be unique\n",
    "  # for now it will have a probability of 2.474631929433396e-07 to be duplicare\n",
    "  a = np.random.choice([70, 72, 73, 76, 79])\n",
    "  b = np.random.randint(100, high=999)\n",
    "  c = np.random.randint(100, high=999)\n",
    "  phone = str(0) + str(a) + str(b) + str(c)\n",
    "  return phone\n",
    "\n",
    "\n",
    "gen_vardagstillfredsställelse()"
   ]
  },
  {
   "cell_type": "code",
   "execution_count": 729,
   "metadata": {},
   "outputs": [
    {
     "data": {
      "text/plain": [
       "2.474631929433396e-07"
      ]
     },
     "execution_count": 729,
     "metadata": {},
     "output_type": "execute_result"
    }
   ],
   "source": [
    "1/5 * 1/899 * 1/899"
   ]
  },
  {
   "cell_type": "code",
   "execution_count": null,
   "metadata": {},
   "outputs": [],
   "source": []
  },
  {
   "cell_type": "code",
   "execution_count": null,
   "metadata": {},
   "outputs": [],
   "source": []
  },
  {
   "cell_type": "code",
   "execution_count": 446,
   "metadata": {},
   "outputs": [
    {
     "data": {
      "text/plain": [
       "0.008000000000000118"
      ]
     },
     "execution_count": 446,
     "metadata": {},
     "output_type": "execute_result"
    }
   ],
   "source": [
    "1 - (0.7 + 0.1 + 0.088 + 0.084 + 0.02)"
   ]
  },
  {
   "cell_type": "code",
   "execution_count": null,
   "metadata": {},
   "outputs": [],
   "source": []
  },
  {
   "cell_type": "code",
   "execution_count": null,
   "metadata": {},
   "outputs": [],
   "source": []
  },
  {
   "cell_type": "code",
   "execution_count": null,
   "metadata": {},
   "outputs": [],
   "source": []
  },
  {
   "cell_type": "code",
   "execution_count": 434,
   "metadata": {},
   "outputs": [
    {
     "data": {
      "text/plain": [
       "0.086"
      ]
     },
     "execution_count": 434,
     "metadata": {},
     "output_type": "execute_result"
    }
   ],
   "source": [
    "860_000 / 10_000_000"
   ]
  },
  {
   "cell_type": "code",
   "execution_count": 264,
   "metadata": {},
   "outputs": [
    {
     "data": {
      "text/plain": [
       "1.0"
      ]
     },
     "execution_count": 264,
     "metadata": {},
     "output_type": "execute_result"
    }
   ],
   "source": [
    "0.02 + 0.02 + 0.26 + 0.19 + 0.270 + 0.24"
   ]
  },
  {
   "cell_type": "code",
   "execution_count": 33,
   "metadata": {},
   "outputs": [
    {
     "data": {
      "text/plain": [
       "1.0"
      ]
     },
     "execution_count": 33,
     "metadata": {},
     "output_type": "execute_result"
    }
   ],
   "source": [
    "a = 0.47+0.35+0.09+0.04+0.02 + 0.03\n",
    "\n",
    "a"
   ]
  },
  {
   "cell_type": "code",
   "execution_count": 31,
   "metadata": {},
   "outputs": [
    {
     "data": {
      "text/plain": [
       "0.0"
      ]
     },
     "execution_count": 31,
     "metadata": {},
     "output_type": "execute_result"
    }
   ],
   "source": [
    "1-a"
   ]
  },
  {
   "attachments": {},
   "cell_type": "markdown",
   "metadata": {},
   "source": [
    "sum(0.4761, 0.3571, 0.0952 0.0476, 0.0238)"
   ]
  },
  {
   "cell_type": "code",
   "execution_count": null,
   "metadata": {},
   "outputs": [],
   "source": [
    "\n",
    "\n",
    "# Assign gender string\n",
    "mapping = {1:'Kvinna',\n",
    "           2: 'Man',\n",
    "           3: 'Annat'}\n",
    "\n",
    "# Assign civilstånd\n",
    "mapping = {1: 'Gift/Sambo',\n",
    "           2: 'Änka/Änkling ej omgift',\n",
    "           3: 'Skild, ej omgift',\n",
    "           4: 'Särbo',\n",
    "           5: 'Ogift',\n",
    "           6: 'Annat'}\n",
    "\n",
    "# Assign utbildningsnivå\n",
    "mapping = {1: 'Folkskolenivå eller lägre',\n",
    "           2: 'Grundskola/Realexamen',\n",
    "           3: 'Studentexamen',\n",
    "           4: 'Fölkhögskola/Yrkesutbildning',\n",
    "           5: 'Ofullständig akademisk utbildning',\n",
    "           6: 'Universitet/Högskola med examen'}\n",
    "\n",
    "# Assign sysselsättning\n",
    "mapping = {1: 'Arbete', \n",
    "           2: 'Studier', \n",
    "           3: 'Arbetslös', \n",
    "           4: 'Sjukskriven/sjukersättning', \n",
    "           5: 'Ålderspensionär', \n",
    "           6: 'Icke-förvärvsarbetande av annan orsak'}\n",
    "\n",
    "# Assign boende\n",
    "mapping = {1: 'Hyresrätt', \n",
    "           2: 'Bostadrätt', \n",
    "           3: 'Radhus, villa eller liknande', \n",
    "           4: 'Särskilt boende', \n",
    "           5: 'Annat'}\n",
    "\n",
    "# Assign living situation\n",
    "mapping = {1: 'Ensamboende', \n",
    "           2: 'Make/maka/sambo', \n",
    "           3: 'Barn', \n",
    "           4: 'Förälder', \n",
    "           5: 'Annan',\n",
    "           6: 'Familj (Partner och barn/ föräldrar och syskon)'}\n",
    "\n",
    "# Assign row birth year / age int\n",
    "mapping = a # = TODO: function for year probability OR just completely random\n",
    "\n",
    "# Assigning row name string\n",
    "mapping = m # = TODO: function for randomizing first and lastname. Gender and age shoukd be a modifier.\n",
    "\n",
    "    # token modifier for name generation:\n",
    "    modifier = [0,0,0]\n",
    "    # x: gender scalar: input bool\n",
    "    # returns a float from -1 to 1\n",
    "\n",
    "    # input val is bool as the modifier make predictions from categorically male and female names\n",
    "    # non-binary genders will be unaffected by this scalar and have same probability for any name,\n",
    "    # while 1 tends to favor labeled female names and -1 labeled male names\n",
    "\n",
    "    # higher output val = p(fem,bobo) (eg. first name += p(name end character is 'a')) => 'Emma Svensson'\n",
    "    # lower output val = p(masc,kiki) (eg. increase p(first name end in consonant)) => 'Emmanuel Svensson'\n",
    "\n",
    "    # y: age scalar: input int\n",
    "    # returns an int from 0 to 54\n",
    "\n",
    "    # val reflects name popularity from list item age value\n",
    "    # (eg. map popular names from different years within a given region (probably sweden))\n",
    "\n",
    "    # higher output val = more probable to match first and last name with age trends\n",
    "    # maybe easter egg names for like 500+ year old (vikings or smt) or -200 year (sci-fi names)\n",
    "\n",
    "    # z: creative scalar: input float\n",
    "    # returns an int from 0 to 54\n",
    "\n",
    "    # higher output val = increases probability for more unconventional name functions to trigger\n",
    "    # (eg. get words from dictionary of places or items not featured in name data) => 'Emballage Krutsnus')\n",
    "    # (eg. funky shuffle and rotation) => 'Mema Venssons'\n",
    "\n",
    "# final token for name algo\n",
    "name_map = [0,0,0]\n",
    "\n",
    "\n",
    "\n",
    "\n",
    "\n",
    "#TODO: estimate 'Vardagstillfredsställelse', 'Hälsa' (0-5)\n",
    "# \n",
    "#TODO: intr for minutes daily spent on 'Arbete', 'Skötsel', 'Lek'\n",
    "# #    'Rekreation'\t'Sömn'\t'Tid_ensam'\t'Tid_familj'\t'Tid_vänner' \t'Tid_övriga'ArithmeticError\n",
    "\n"
   ]
  }
 ],
 "metadata": {
  "kernelspec": {
   "display_name": "Python 3",
   "language": "python",
   "name": "python3"
  },
  "language_info": {
   "codemirror_mode": {
    "name": "ipython",
    "version": 3
   },
   "file_extension": ".py",
   "mimetype": "text/x-python",
   "name": "python",
   "nbconvert_exporter": "python",
   "pygments_lexer": "ipython3",
   "version": "3.9.13"
  },
  "orig_nbformat": 4,
  "vscode": {
   "interpreter": {
    "hash": "aee8b7b246df8f9039afb4144a1f6fd8d2ca17a180786b69acc140d282b71a49"
   }
  }
 },
 "nbformat": 4,
 "nbformat_minor": 2
}
